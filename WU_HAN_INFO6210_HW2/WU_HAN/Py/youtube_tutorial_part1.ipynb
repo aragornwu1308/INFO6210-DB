{
 "cells": [
  {
   "cell_type": "code",
   "execution_count": null,
   "metadata": {},
   "outputs": [],
   "source": [
    "import sys\n",
    "sys.path.append('/home/spnichol/Dropbox/youtube_tutorial/')\n",
    "from youtube_videos import youtube_search\n",
    "import pandas as pd\n",
    "import json\n",
    "\n",
    "\n",
    "test = youtube_search(\"spinners\")\n",
    "\n",
    "video_dict = {'youID':[], 'title':[], 'pub_date':[]}\n",
    "\n",
    "just_json = test[1]\n",
    "len(just_json)\n",
    "\n",
    "\n",
    "for video in just_json:\n",
    "    print video['snippet']['title']\n",
    "\n",
    "token = test[0]\n",
    "youtube_search(\"pubg\", token=token)\n",
    "\n",
    "\n",
    "\n",
    "video_dict = {'youID':[], 'title':[], 'pub_date':[]}\n",
    "\n",
    "def grab_videos(keyword, token=None):\n",
    "    res = youtube_search(keyword, token=token)\n",
    "    token = res[0]\n",
    "    videos = res[1]\n",
    "    for vid in videos:\n",
    "        video_dict['youID'].append(vid['id']['videoId'])\n",
    "        video_dict['title'].append(vid['snippet']['title'])\n",
    "        video_dict['pub_date'].append(vid['snippet']['publishedAt'])\n",
    "    print \"added \" + str(len(videos)) + \" videos to a total of \" + str(len(video_dict['youID']))\n",
    "    return token\n",
    "\n",
    "\n",
    "\n",
    "\n",
    "\n",
    "token = grab_videos(\"pubg\")\n",
    "while token != \"last_page\":\n",
    "    token = grab_videos(\"pubg\", token=token)"
   ]
  }
 ],
 "metadata": {
  "kernelspec": {
   "display_name": "Python 2",
   "language": "python",
   "name": "python2"
  },
  "language_info": {
   "codemirror_mode": {
    "name": "ipython",
    "version": 2
   },
   "file_extension": ".py",
   "mimetype": "text/x-python",
   "name": "python",
   "nbconvert_exporter": "python",
   "pygments_lexer": "ipython2",
   "version": "2.7.15"
  }
 },
 "nbformat": 4,
 "nbformat_minor": 2
}
