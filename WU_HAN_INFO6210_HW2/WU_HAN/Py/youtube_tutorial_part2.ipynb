{
 "cells": [
  {
   "cell_type": "code",
   "execution_count": null,
   "metadata": {},
   "outputs": [],
   "source": [
    "import sys\n",
    "sys.path.append('/home/spnichol/Dropbox/youtube_tutorial/')\n",
    "from youtube_videos import youtube_search\n",
    "import pandas as pd\n",
    "import json\n",
    "\n",
    "\n",
    "\n",
    "test = youtube_search(\"spinners\", location=\"40.730610, -73.935242\", location_radius=\"50km\")\n",
    "\n",
    "\n",
    "geo_test = geo_query('r2GYzQvfARo')\n",
    "\n",
    "\n",
    "location_dict = {\"youID\":[], \"lat\":[], \"lon\":[]}\n",
    "for video in test[1]:\n",
    "    location_dict['youID'].append((video['id']['videoId']))\n",
    "    geo = geo_query(video['id']['videoId'])\n",
    "    location_dict['lat'].append(geo['items'][0]['recordingDetails']['location']['latitude'])\n",
    "    location_dict['lon'].append(geo['items'][0]['recordingDetails']['location']['longitude'])"
   ]
  }
 ],
 "metadata": {
  "kernelspec": {
   "display_name": "Python 2",
   "language": "python",
   "name": "python2"
  },
  "language_info": {
   "codemirror_mode": {
    "name": "ipython",
    "version": 2
   },
   "file_extension": ".py",
   "mimetype": "text/x-python",
   "name": "python",
   "nbconvert_exporter": "python",
   "pygments_lexer": "ipython2",
   "version": "2.7.15"
  }
 },
 "nbformat": 4,
 "nbformat_minor": 2
}
